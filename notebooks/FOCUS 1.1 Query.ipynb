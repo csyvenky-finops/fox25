{
 "cells": [
  {
   "cell_type": "markdown",
   "metadata": {
    "application/vnd.databricks.v1+cell": {
     "cellMetadata": {
      "byteLimit": 2048000,
      "rowLimit": 10000
     },
     "inputWidgets": {},
     "nuid": "2b9c7406-affe-4c30-b902-780c6a38e8f6",
     "showTitle": false,
     "tableResultSettingsMap": {},
     "title": ""
    }
   },
   "source": [
    "## Overview\n",
    "This query generates a billing/usage report from the `system.billing` database, focusing on Azure Databricks resources.\n",
    "\n",
    "## Table Structure\n",
    "The query joins two primary tables:\n",
    "- `usage` (aliased as `u`): Contains usage data.\n",
    "- `list_prices` (aliased as `p`): Contains pricing information.\n",
    "\n",
    "## Fixed Values\n",
    "| Field           | Value      |\n",
    "|-----------------|------------|\n",
    "| ProviderName    | Microsoft  |\n",
    "| PublisherName   | Databricks |\n",
    "| ServiceCategory | Analytics  |\n",
    "| RegionId        | West US    |\n",
    "\n",
    "## Cost Calculations\n",
    "Cost metrics are computed using the pricing information from the `list_prices` table multiplied by the usage quantity from the `usage` table. For example:\n",
    "- **ContractedCost** and **ListCost** are calculated as:  \n",
    "  `p.pricing.effective_list.default * u.usage_quantity`\n",
    "- **EffectiveCost** uses conditional logic based on `ChargeCategory`:  \n",
    "  - For Purchase rows, the cost is `0`.  \n",
    "  - For Credit rows and Usage rows, the cost is `p.pricing.effective_list.default * u.usage_quantity`.  \n",
    "  - For other charge types (e.g., Tax), adjustments may apply.\n",
    "\n",
    "When unit prices are provided, multiplying the unit price by the usage quantity should yield the corresponding cost metric, except for rows with `ChargeClass = \"Correction\"`, where discrepancies are permitted."
   ]
  },
  {
   "cell_type": "markdown",
   "metadata": {},
   "source": [
    "### Changed Columns in Version 1.1\n",
    "\n",
    "https://github.com/FinOps-Open-Cost-and-Usage-Spec/FOCUS_Spec/blob/working_draft/CHANGELOG.md\n",
    "\n",
    "Columns Added:\n",
    "1. CapacityReservationId\n",
    "1. CapacityReservationStatus\n",
    "1. CommitmentDiscountQuantity\n",
    "1. CommitmentDiscountUnit\n",
    "1. ServiceSubcategory\n",
    "1. SkuMeter\n",
    "1. SkuPriceDetails"
   ]
  },
  {
   "cell_type": "code",
   "execution_count": null,
   "metadata": {
    "application/vnd.databricks.v1+cell": {
     "cellMetadata": {
      "byteLimit": 2048000,
      "implicitDf": true,
      "rowLimit": 10000
     },
     "inputWidgets": {},
     "nuid": "0c6ba55d-948f-4267-9e7c-f55cf7c0d293",
     "showTitle": false,
     "tableResultSettingsMap": {},
     "title": ""
    },
    "vscode": {
     "languageId": "sql"
    }
   },
   "outputs": [],
   "source": [
    "%sql\n",
    "USE system.billing;\n",
    "\n",
    "SELECT\n",
    "    '' AS AvailabilityZone,                    -- dimension, recommended, nulls, string\n",
    "    u.account_id AS BillingAccountId,          -- dimension, mandatory, not null, string (This is the Databrick's Account ID)\n",
    "    '' AS BillingAccountName,                  -- dimension, mandatory, nulls, string\n",
    "    p.currency_code AS BillingCurrency,        -- dimension, mandatory, not null, currency (Currency Code)\n",
    "    date_format(date_trunc('month', u.usage_date), 'yyyy-MM-dd\\'T\\'HH:mm:ss\\'Z\\'') AS BillingPeriodStart,   -- dimension, mandatory, not null, datetime (ISO 8601)\n",
    "    date_format(date_add(last_day(u.usage_date), 1), 'yyyy-MM-dd\\'T\\'HH:mm:ss\\'Z\\'') AS BillingPeriodEnd,   -- dimension, mandatory, not null, datetime (ISO 8601)\n",
    "    p.pricing.effective_list.default * u.usage_quantity AS BilledCost,      -- metric, mandatory, not null, numeric\n",
    "    NULL AS CapacityReservationId,             -- dimension, optional, nulls, string\n",
    "    NULL AS CapacityReservationStatus,         -- dimension, optional, nulls, string [Used, Unused]\n",
    "    'Usage' AS ChargeCategory,                 -- dimension, mandatory, not null, string [Usage, Purchase, Tax, Credit, Adjustment]\n",
    "    NULL AS ChargeClass,                       -- dimension, mandatory, nulls, string [Correction]\n",
    "    u.usage_type AS ChargeDescription,         -- dimension, mandatory, nulls, string [Databricks Docs: COMPUTE_TIME, STORAGE_SPACE, NETWORK_BYTES, NETWORK_HOUR, API_OPERATION, TOKEN, GPU_TIME] \n",
    "    CASE\n",
    "        WHEN ChargeCategory = 'Purchase' THEN 'One-Time'\n",
    "        ELSE 'Usage-Based'\n",
    "    END AS ChargeFrequency,                    -- dimension, recommended, not null, string [One-Time, Recurring, Usage-Based]\n",
    "    date_format(u.usage_end_time, 'yyyy-MM-dd\\'T\\'HH:mm:ss\\'Z\\'') AS ChargePeriodEnd,      -- dimension, mandatory, not null, datetime (ISO 8601)\n",
    "    date_format(u.usage_start_time, 'yyyy-MM-dd\\'T\\'HH:mm:ss\\'Z\\'') AS ChargePeriodStart,  -- dimension, mandatory, not null, datetime (ISO 8601)\n",
    "    NULL AS CommitmentDiscountCategory,        -- dimension, conditional, nulls, string [Spend, Usage]\n",
    "    NULL AS CommitmentDiscountID,              -- dimension, conditional, nulls, string\n",
    "    NULL AS CommitmentDiscountName,            -- dimension, conditional, nulls, string\n",
    "    NULL AS CommitmentDiscountQuantity,        -- metric, optional, nulls, decimal\n",
    "    NULL AS CommitmentDiscountStatus,          -- dimension, conditional, nulls, string [Used, Unsued]\n",
    "    NULL AS CommitmentDiscountUnit,            -- dimension, optional, nulls, string\n",
    "    CASE\n",
    "        WHEN ChargeCategory = 'Usage'\n",
    "            AND (ChargeClass IS NULL OR ChargeClass <> 'Correction')\n",
    "        THEN u.usage_quantity\n",
    "        ELSE NULL\n",
    "    END AS ConsumedQuantity,                   -- metric, conditional, nulls, decimal\n",
    "    CASE\n",
    "        WHEN ChargeCategory = 'Usage'\n",
    "            AND (ChargeClass IS NULL OR ChargeClass <> 'Correction')\n",
    "        THEN u.usage_unit\n",
    "        ELSE NULL\n",
    "    END AS ConsumedUnit,                       -- metric, conditional, nulls, string\n",
    "    p.pricing.effective_list.default * u.usage_quantity AS ContractedCost,  -- metric, mandatory, not null, decimal (The column needs thorough review)\n",
    "    NULL AS ContractedUnitPrice,                -- metric, conditional, nulls, decimal\n",
    "    CASE \n",
    "        WHEN ChargeCategory = 'Purchase' THEN 0\n",
    "        WHEN ChargeCategory = 'Usage' THEN p.pricing.effective_list.default * u.usage_quantity\n",
    "        WHEN ChargeCategory = 'Credit' THEN p.pricing.effective_list.default * u.usage_quantity\n",
    "        ELSE p.pricing.effective_list.default * u.usage_quantity  -- For other charge types (e.g. Tax), adjust aggregation as needed\n",
    "    END AS EffectiveCost,                      -- metric, mandatory, not null, numeric\n",
    "    u.cloud AS InvoiceIssuerName,              -- dimension, mandatory, not null, string\n",
    "    p.pricing.effective_list.default * u.usage_quantity AS ListCost,        -- metric, mandatory, not null, decimal\n",
    "    CASE\n",
    "        WHEN ChargeCategory = 'Tax' THEN NULL\n",
    "        WHEN ChargeCategory IN ('Usage', 'Purchase')\n",
    "            AND (ChargeClass IS NULL OR ChargeClass <> 'Correction')\n",
    "            THEN CAST(p.pricing.effective_list.default AS DECIMAL(38,10))\n",
    "        ELSE NULL\n",
    "    END AS ListUnitPrice,                      -- metric, conditional, nulls, decimal\n",
    "    CASE\n",
    "        -- When pricing is based on tax, PricingCategory MUST be null.\n",
    "        WHEN ChargeCategory = 'Tax' THEN NULL\n",
    "\n",
    "        -- For Usage or Purchase (with non-Correction ChargeClass), PricingCategory MUST not be null.\n",
    "        WHEN ChargeCategory IN ('Usage','Purchase')\n",
    "            AND (ChargeClass IS NULL OR ChargeClass <> 'Correction')\n",
    "            THEN \n",
    "                CASE\n",
    "                    -- When a CommitmentDiscountID is present, use 'Committed'\n",
    "                    WHEN CommitmentDiscountID IS NOT NULL THEN 'Committed'\n",
    "                    -- (Assuming predetermined pricing in absence of another indicator)\n",
    "                    ELSE 'Standard'\n",
    "                END\n",
    "\n",
    "        -- For all other combinations:\n",
    "        ELSE \n",
    "            CASE\n",
    "                -- If CommitmentDiscountID is present outside Usage/Purchase, still return 'Committed'\n",
    "                WHEN CommitmentDiscountID IS NOT NULL THEN 'Committed'\n",
    "                -- Otherwise, if a pricing model exists but no allowed value applies, return 'Other'\n",
    "                ELSE 'Other'\n",
    "            END\n",
    "    END AS PricingCategory,                    -- dimension, conditional, nulls, string [Standard, Dynamic, Committed, Other]\n",
    "    CASE\n",
    "        -- Must be null for Tax rows.\n",
    "        WHEN ChargeCategory = 'Tax' THEN NULL\n",
    "\n",
    "        -- For Usage or Purchase with non-Correction ChargeClass, value must not be null.\n",
    "        WHEN ChargeCategory IN ('Usage', 'Purchase')\n",
    "            AND (ChargeClass IS NULL OR ChargeClass <> 'Correction') THEN u.usage_quantity\n",
    "\n",
    "        -- For Correction rows, we allow a value (which may be negative) but discrepancies between cost calculations are permitted.\n",
    "        WHEN ChargeClass = 'Correction' THEN u.usage_quantity\n",
    "\n",
    "        -- For all other combinations, the value may be null.\n",
    "        ELSE NULL\n",
    "    END AS PricingQuantity,                    -- metric, mandatory, nulls, decimal\n",
    "    CASE\n",
    "        WHEN ChargeCategory = 'Tax' THEN NULL\n",
    "        WHEN ChargeCategory IN ('Usage', 'Purchase')\n",
    "            AND (ChargeClass IS NULL OR ChargeClass <> 'Correction')\n",
    "            THEN u.usage_unit\n",
    "        ELSE NULL\n",
    "    END AS PricingUnit,                        -- dimension, mandatory, nulls, string\n",
    "    'Microsoft' AS ProviderName,               -- dimension, mandatory, not null, string\n",
    "    'Databricks' AS PublisherName,             -- dimension, mandatory, not null, string\n",
    "    'West US' AS RegionId,                     -- dimension, conditional, nulls, string\n",
    "    '' AS RegionName,                          -- dimension, conditional, nulls, string\n",
    "    '' AS ResourceId,                          -- dimension, conditional, nulls, string\n",
    "    '' AS ResourceName,                        -- dimension, conditional, nulls, string\n",
    "    CASE \n",
    "        WHEN u.billing_origin_product IS NOT NULL THEN u.billing_origin_product\n",
    "        ELSE NULL\n",
    "    END AS ResourceType,                       -- dimension, conditional, nulls, string\n",
    "    'Analytics' AS ServiceCategory,            -- dimension, mandatory, not null, string [AI and Machine Learning, Analytics, Business Applications, Compute, Databases, Developer Tools, Multicloud, Identity, Integration, Internet of Things, Management and Governance, Media, Migration, Mobile, Networking, Security, Storage, Web, Other]\n",
    "    u.billing_origin_product || ' | ' || u.sku_name AS ServiceName,  -- dimension, mandatory, not null, string\n",
    "    'Analytics Platforms' AS ServiceSubcategory,                     -- dimension, optional, not null, string [AI Platforms, Bots, Generative AI, Machine Learning, Natural Language Processing, Other (AI and Machine Learning), Analytics Platforms, Business Intelligence, Data Processing, Search, Streaming Analytics, Other (Analytics), Productivity and Collaboration, Other (Business Applications), Containers, End User Computing, Quantum Compute, Serverless Compute, Virtual Machines, Other (Compute), Caching, Data Warehouses, Ledger Databases, NoSQL Databases, Relational Databases, Time Series Databases, Other (Databases), Developer Platforms, Continuous Integration and Deployment, Development Environments, Source Code Management, Quality Assurance, Other (Developer Tools), Identity and Access Management, Other (Identity), API Management, Messaging, Workflow Orchestration, Other (Integration), IoT Analytics, IoT Platforms, Other (Internet of Things), Architecture, Compliance, Cost Management, Data Governance, Disaster Recovery, Endpoint Management, Observability, Support, Other (Management and Governance), Content Creation, Gaming, Media Streaming, Mixed Reality, Other (Media), Data Migration, Resource Migration, Other (Migration), Other (Mobile), Multicloud Integration, Other (Multicloud), Application Networking, Content Delivery, Network Connectivity, Network Infrastructure, Network Routing, Network Security, Other (Networking), Secret Management, Security Posture Management, Threat Detection and Response, Other (Security), Backup Storage, Block Storage, File Storage, Object Storage, Storage Platforms, Other (Storage), Application Platforms, Other (Web), Other (Other)]\n",
    "    CASE\n",
    "        -- When ChargeCategory is Tax, SkuId must be null.\n",
    "        WHEN ChargeCategory = 'Tax' THEN NULL\n",
    "\n",
    "        -- When ChargeCategory is Usage or Purchase and ChargeClass is not \"Correction\",\n",
    "        -- SkuId must be non-null (populated from u.sku_name).\n",
    "        WHEN ChargeCategory IN ('Usage','Purchase') \n",
    "            AND (ChargeClass IS NULL OR ChargeClass <> 'Correction')\n",
    "            THEN u.sku_name\n",
    "\n",
    "        -- For all other combinations, SkuId is allowed to be null;\n",
    "        -- also, when an overarching SKU ID is not supported, SkuId equals SKUPriceId (here assumed to be u.sku_name).\n",
    "        ELSE u.sku_name\n",
    "    END AS SkuId,                              -- dimension, conditional, nulls, string                       \n",
    "    CASE\n",
    "        -- When ChargeCategory is Tax, SKUPriceID must be null.\n",
    "        WHEN ChargeCategory = 'Tax' THEN NULL\n",
    "\n",
    "        -- When ChargeCategory is Usage or Purchase and ChargeClass is not \"Correction\",\n",
    "        -- SKUPriceID must be non-null (populated from u.sku_name).\n",
    "        WHEN ChargeCategory IN ('Usage','Purchase')\n",
    "            AND (ChargeClass IS NULL OR ChargeClass <> 'Correction')\n",
    "            THEN u.sku_name\n",
    "\n",
    "        -- For all other combinations, SKUPriceID equals u.sku_name.\n",
    "        ELSE u.sku_name\n",
    "    END AS SKUPriceID,                         -- dimension, conditional, nulls, string\n",
    "    NULL AS SkuMeter,                          -- dimension, optional, nulls, string\n",
    "    NULL AS SkuPriceDetails,                   -- dimension, optional, nulls, json (key value)\n",
    "    CASE \n",
    "        WHEN u.workspace_id IS NOT NULL \n",
    "            AND TRIM(u.workspace_id) <> '' \n",
    "            THEN u.workspace_id \n",
    "        ELSE NULL \n",
    "    END AS SubAccountId,                       -- dimension, conditional, nulls, string\n",
    "    CASE \n",
    "    WHEN u.workspace_id IS NOT NULL \n",
    "            AND TRIM(u.workspace_id) <> '' \n",
    "            THEN u.workspace_id \n",
    "        ELSE NULL \n",
    "    END AS SubAccountName,                     -- dimension, mandatory, not null, string\n",
    "    COALESCE(u.custom_tags, CAST(map() AS MAP<STRING, STRING>)) AS Tags, -- dimension, conditional, nulls, json (key value)\n",
    "    CASE \n",
    "        WHEN CommitmentDiscountID IS NULL THEN NULL\n",
    "        ELSE 'Commitment'\n",
    "    END AS CommitmentDiscountType,             -- dimension, conditional, nulls, string\n",
    "    u.usage_date AS UnmappedUsageDate          -- ?? should interogate these data\n",
    "FROM\n",
    "    usage u\n",
    "    JOIN list_prices p ON u.sku_name = p.sku_name\n",
    "WHERE\n",
    "    p.price_start_time <= CURRENT_DATE\n",
    "    AND p.price_end_time IS NULL\n",
    "    AND usage_start_time BETWEEN :start_date AND :end_date;"
   ]
  }
 ],
 "metadata": {
  "application/vnd.databricks.v1+notebook": {
   "computePreferences": null,
   "dashboards": [],
   "environmentMetadata": {
    "base_environment": "",
    "environment_version": "2"
   },
   "language": "python",
   "notebookMetadata": {
    "mostRecentlyExecutedCommandWithImplicitDF": {
     "commandId": 7366488393949466,
     "dataframes": [
      "_sqldf"
     ]
    },
    "pythonIndentUnit": 4
   },
   "notebookName": "Draft FOCUS 1.0 Query",
   "widgets": {
    "end_date": {
     "currentValue": "2025-02-24",
     "nuid": "8a722e33-0e95-412d-b8e1-1facd4ee0364",
     "typedWidgetInfo": {
      "autoCreated": false,
      "defaultValue": "2025-12-31",
      "label": "",
      "name": "end_date",
      "options": {
       "validationRegex": null,
       "widgetDisplayType": "Text"
      },
      "parameterDataType": "String"
     },
     "widgetInfo": {
      "defaultValue": "2025-12-31",
      "label": "",
      "name": "end_date",
      "options": {
       "autoCreated": false,
       "validationRegex": null,
       "widgetType": "text"
      },
      "widgetType": "text"
     }
    },
    "start_date": {
     "currentValue": "2025-02-10",
     "nuid": "d6730a7f-18e3-440c-9bdb-93ef5925f0dc",
     "typedWidgetInfo": {
      "autoCreated": false,
      "defaultValue": "2025-01-01",
      "label": "",
      "name": "start_date",
      "options": {
       "validationRegex": null,
       "widgetDisplayType": "Text"
      },
      "parameterDataType": "String"
     },
     "widgetInfo": {
      "defaultValue": "2025-01-01",
      "label": "",
      "name": "start_date",
      "options": {
       "autoCreated": false,
       "validationRegex": null,
       "widgetType": "text"
      },
      "widgetType": "text"
     }
    }
   }
  },
  "kernelspec": {
   "display_name": "Python 3",
   "language": "python",
   "name": "python3"
  },
  "language_info": {
   "codemirror_mode": {
    "name": "ipython",
    "version": 3
   },
   "file_extension": ".py",
   "mimetype": "text/x-python",
   "name": "python",
   "nbconvert_exporter": "python",
   "pygments_lexer": "ipython3",
   "version": "3.13.2"
  }
 },
 "nbformat": 4,
 "nbformat_minor": 0
}
