{
 "cells": [
  {
   "cell_type": "markdown",
   "metadata": {
    "application/vnd.databricks.v1+cell": {
     "cellMetadata": {
      "byteLimit": 2048000,
      "rowLimit": 10000
     },
     "inputWidgets": {},
     "nuid": "e54b83cc-8dc0-4a8d-8d9c-75a7d559a26b",
     "showTitle": false,
     "tableResultSettingsMap": {},
     "title": ""
    }
   },
   "source": [
    "## Azure Resource Graph Query with Service Principal Authentication\n",
    "\n",
    "This Databricks notebook authenticates with Azure using a Service Principal and runs a Kusto query\n",
    "against the Azure Resource Graph to retrieve resources of type \"microsoft.databricks/workspaces\".\n",
    "\n",
    "**Prerequisites**:\n",
    "- Azure Service Principal credentials (Tenant ID, Client ID, and Client Secret)\n",
    "- Required Python packages: \n",
    "    - azure-identity (for service principal authentication)\n",
    "    - azure-mgmt-resourcegraph (for interacting with Azure Resource Graph)\n",
    "    - azure-mgmt-resource (for managing resources)"
   ]
  },
  {
   "cell_type": "code",
   "execution_count": 0,
   "metadata": {
    "application/vnd.databricks.v1+cell": {
     "cellMetadata": {
      "byteLimit": 2048000,
      "rowLimit": 10000
     },
     "inputWidgets": {},
     "nuid": "2d028741-07cc-4cef-9dd5-d2733f472c67",
     "showTitle": false,
     "tableResultSettingsMap": {},
     "title": ""
    }
   },
   "outputs": [],
   "source": [
    "!pip install azure-identity azure-mgmt-resource azure-mgmt-resourcegraph\n"
   ]
  },
  {
   "cell_type": "code",
   "execution_count": 0,
   "metadata": {
    "application/vnd.databricks.v1+cell": {
     "cellMetadata": {
      "byteLimit": 2048000,
      "rowLimit": 10000
     },
     "inputWidgets": {},
     "nuid": "4e1dafb9-ca00-47da-bdd0-206c52ff38d8",
     "showTitle": false,
     "tableResultSettingsMap": {},
     "title": ""
    }
   },
   "outputs": [],
   "source": [
    "import azure.identity\n",
    "print(\"azure-identity is installed correctly\")\n"
   ]
  },
  {
   "cell_type": "code",
   "execution_count": 0,
   "metadata": {
    "application/vnd.databricks.v1+cell": {
     "cellMetadata": {
      "byteLimit": 2048000,
      "rowLimit": 10000
     },
     "inputWidgets": {},
     "nuid": "ab1fbf9b-bc14-4eaa-bd3e-19faf600c41d",
     "showTitle": false,
     "tableResultSettingsMap": {},
     "title": ""
    }
   },
   "outputs": [],
   "source": [
    "import json\n",
    "from azure.identity import ClientSecretCredential\n",
    "from azure.mgmt.resourcegraph import ResourceGraphClient\n",
    "from azure.mgmt.resourcegraph.models import QueryRequest\n",
    "\n",
    "# Function to authenticate using Service Principal credentials\n",
    "def authenticate_with_service_principal(tenant_id, client_id, client_secret):\n",
    "    credential = ClientSecretCredential(tenant_id, client_id, client_secret)\n",
    "    print(\"Authentication successful with Service Principal.\")\n",
    "    return credential\n",
    "\n",
    "# Function to run the Kusto query using Azure SDK\n",
    "def run_kusto_query(credential):\n",
    "    client = ResourceGraphClient(credential)\n",
    "\n",
    "    query = 'resources | where type =~ \"microsoft.databricks/workspaces\"'\n",
    "    query_request = QueryRequest(query=query)\n",
    "\n",
    "    result = client.resources(query_request)\n",
    "    \n",
    "    print(\"Query executed successfully.\")\n",
    "    result_json = json.dumps(result.data, default=str)\n",
    "    print(result_json)\n",
    "\n",
    "# Main execution flow\n",
    "if __name__ == \"__main__\":\n",
    "    tenant_id = dbutils.secrets.get(scope=\"adb_trial_workspace\", key=\"azure-tenant-id\")\n",
    "    client_id = dbutils.secrets.get(scope=\"adb_trial_workspace\", key=\"spn-az-graph-app-id\")\n",
    "    client_secret = dbutils.secrets.get(scope=\"adb_trial_workspace\", key=\"spn-az-graph-secret\")\n",
    "\n",
    "    credential = authenticate_with_service_principal(tenant_id, client_id, client_secret)\n",
    "    run_kusto_query(credential)"
   ]
  }
 ],
 "metadata": {
  "application/vnd.databricks.v1+notebook": {
   "computePreferences": null,
   "dashboards": [],
   "environmentMetadata": {
    "base_environment": "",
    "environment_version": "2"
   },
   "language": "python",
   "notebookMetadata": {
    "pythonIndentUnit": 4
   },
   "notebookName": "Ingest ADB Meta-Data",
   "widgets": {}
  },
  "kernelspec": {
   "display_name": "Python 3",
   "language": "python",
   "name": "python3"
  },
  "language_info": {
   "name": "python",
   "version": "3.13.2"
  }
 },
 "nbformat": 4,
 "nbformat_minor": 0
}
